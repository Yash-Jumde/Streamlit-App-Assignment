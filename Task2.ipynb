{
 "cells": [
  {
   "cell_type": "code",
   "execution_count": 10,
   "metadata": {},
   "outputs": [],
   "source": [
    "import pandas as pd\n",
    "from sklearn.model_selection import train_test_split\n",
    "from sklearn.preprocessing import StandardScaler, LabelEncoder\n"
   ]
  },
  {
   "cell_type": "code",
   "execution_count": 11,
   "metadata": {},
   "outputs": [],
   "source": [
    "train_data = pd.read_excel(\"./Task1and2/train.xlsx\")\n",
    "test_data = pd.read_excel(\"./Task1and2/test.xlsx\")"
   ]
  },
  {
   "cell_type": "code",
   "execution_count": 31,
   "metadata": {},
   "outputs": [
    {
     "data": {
      "text/plain": [
       "0"
      ]
     },
     "execution_count": 31,
     "metadata": {},
     "output_type": "execute_result"
    }
   ],
   "source": [
    "train_data.isnull().sum().sum()"
   ]
  },
  {
   "cell_type": "code",
   "execution_count": 13,
   "metadata": {},
   "outputs": [],
   "source": [
    "# Split the data into training and testing sets\n",
    "y = train_data[\"target\"]\n",
    "X = train_data.drop(columns=[\"target\"])\n",
    "\n",
    "X_train, X_test, y_train, y_test = train_test_split(X, y, test_size=0.2, random_state=0)\n"
   ]
  },
  {
   "cell_type": "code",
   "execution_count": 14,
   "metadata": {},
   "outputs": [
    {
     "data": {
      "text/plain": [
       "((29401, 18), (29401,), (7351, 18), (7351,))"
      ]
     },
     "execution_count": 14,
     "metadata": {},
     "output_type": "execute_result"
    }
   ],
   "source": [
    "X_train.shape, y_train.shape, X_test.shape, y_test.shape\n"
   ]
  },
  {
   "cell_type": "code",
   "execution_count": 15,
   "metadata": {},
   "outputs": [],
   "source": [
    "# Normalize the data\n",
    "scaler = StandardScaler()\n",
    "X_train_norm = scaler.fit_transform(X_train)\n",
    "X_test_norm = scaler.transform(X_test)"
   ]
  },
  {
   "cell_type": "code",
   "execution_count": 16,
   "metadata": {},
   "outputs": [],
   "source": [
    "label_encoder = LabelEncoder()\n",
    "y_train_encoded = label_encoder.fit_transform(y_train)"
   ]
  },
  {
   "cell_type": "code",
   "execution_count": 17,
   "metadata": {},
   "outputs": [
    {
     "data": {
      "text/plain": [
       "((29401, 18), (29401,))"
      ]
     },
     "execution_count": 17,
     "metadata": {},
     "output_type": "execute_result"
    }
   ],
   "source": [
    "X_train_norm.shape, y_train_encoded.shape"
   ]
  },
  {
   "cell_type": "code",
   "execution_count": 18,
   "metadata": {},
   "outputs": [
    {
     "data": {
      "text/plain": [
       "({'Logistic Regression': 0.9773136968130336,\n",
       "  'Random Forest': 0.9995238257202136,\n",
       "  'Support Vector Machine': 0.9898642903302609},\n",
       " {'Logistic Regression': array(['B54', 'A69', 'B72', ..., 'B40', 'B14', 'A76'], dtype=object),\n",
       "  'Random Forest': array(['B54', 'A69', 'B72', ..., 'B40', 'B14', 'A76'], dtype=object),\n",
       "  'Support Vector Machine': array(['B54', 'A69', 'B72', ..., 'B40', 'B14', 'A76'], dtype=object)})"
      ]
     },
     "execution_count": 18,
     "metadata": {},
     "output_type": "execute_result"
    }
   ],
   "source": [
    "# Using different models\n",
    "from sklearn.linear_model import LogisticRegression\n",
    "from sklearn.ensemble import RandomForestClassifier\n",
    "from sklearn.svm import SVC\n",
    "\n",
    "models = {\n",
    "    \"Logistic Regression\": LogisticRegression(max_iter=1000, random_state=10),\n",
    "    \"Random Forest\": RandomForestClassifier(random_state=10),\n",
    "    \"Support Vector Machine\": SVC(random_state=10)\n",
    "}\n",
    "\n",
    "train_accuracies = {}\n",
    "test_predictions = {}\n",
    "\n",
    "for name, model in models.items():\n",
    "    model.fit(X_train_norm, y_train_encoded)\n",
    "    train_accuracy = model.score(X_train_norm, y_train_encoded)\n",
    "    test_pred = model.predict(X_test_norm)\n",
    "\n",
    "    train_accuracies[name] = train_accuracy\n",
    "    test_predictions[name] = label_encoder.inverse_transform(test_pred)\n",
    "\n",
    "train_accuracies, test_predictions"
   ]
  },
  {
   "cell_type": "code",
   "execution_count": 19,
   "metadata": {},
   "outputs": [],
   "source": [
    "# Predictions DataFrame\n",
    "predictions = pd.DataFrame(columns=['Logistic_pred', 'Random_Forest_pred', 'SVM_pred', 'actual'])\n",
    "\n",
    "predictions['Logistic_pred'] = test_predictions[\"Logistic Regression\"]\n",
    "predictions['Random_Forest_pred'] = test_predictions[\"Random Forest\"]\n",
    "predictions['SVM_pred'] = test_predictions[\"Support Vector Machine\"]"
   ]
  },
  {
   "cell_type": "code",
   "execution_count": 24,
   "metadata": {},
   "outputs": [
    {
     "data": {
      "text/html": [
       "<div>\n",
       "<style scoped>\n",
       "    .dataframe tbody tr th:only-of-type {\n",
       "        vertical-align: middle;\n",
       "    }\n",
       "\n",
       "    .dataframe tbody tr th {\n",
       "        vertical-align: top;\n",
       "    }\n",
       "\n",
       "    .dataframe thead th {\n",
       "        text-align: right;\n",
       "    }\n",
       "</style>\n",
       "<table border=\"1\" class=\"dataframe\">\n",
       "  <thead>\n",
       "    <tr style=\"text-align: right;\">\n",
       "      <th></th>\n",
       "      <th>Logistic_pred</th>\n",
       "      <th>Random_Forest_pred</th>\n",
       "      <th>SVM_pred</th>\n",
       "    </tr>\n",
       "  </thead>\n",
       "  <tbody>\n",
       "    <tr>\n",
       "      <th>0</th>\n",
       "      <td>B54</td>\n",
       "      <td>B54</td>\n",
       "      <td>B54</td>\n",
       "    </tr>\n",
       "    <tr>\n",
       "      <th>1</th>\n",
       "      <td>A69</td>\n",
       "      <td>A69</td>\n",
       "      <td>A69</td>\n",
       "    </tr>\n",
       "    <tr>\n",
       "      <th>2</th>\n",
       "      <td>B72</td>\n",
       "      <td>B72</td>\n",
       "      <td>B72</td>\n",
       "    </tr>\n",
       "    <tr>\n",
       "      <th>3</th>\n",
       "      <td>A21</td>\n",
       "      <td>A21</td>\n",
       "      <td>A21</td>\n",
       "    </tr>\n",
       "    <tr>\n",
       "      <th>4</th>\n",
       "      <td>B22</td>\n",
       "      <td>B22</td>\n",
       "      <td>B22</td>\n",
       "    </tr>\n",
       "    <tr>\n",
       "      <th>...</th>\n",
       "      <td>...</td>\n",
       "      <td>...</td>\n",
       "      <td>...</td>\n",
       "    </tr>\n",
       "    <tr>\n",
       "      <th>7346</th>\n",
       "      <td>B80</td>\n",
       "      <td>B80</td>\n",
       "      <td>B80</td>\n",
       "    </tr>\n",
       "    <tr>\n",
       "      <th>7347</th>\n",
       "      <td>B71</td>\n",
       "      <td>B71</td>\n",
       "      <td>B71</td>\n",
       "    </tr>\n",
       "    <tr>\n",
       "      <th>7348</th>\n",
       "      <td>B40</td>\n",
       "      <td>B40</td>\n",
       "      <td>B40</td>\n",
       "    </tr>\n",
       "    <tr>\n",
       "      <th>7349</th>\n",
       "      <td>B14</td>\n",
       "      <td>B14</td>\n",
       "      <td>B14</td>\n",
       "    </tr>\n",
       "    <tr>\n",
       "      <th>7350</th>\n",
       "      <td>A76</td>\n",
       "      <td>A76</td>\n",
       "      <td>A76</td>\n",
       "    </tr>\n",
       "  </tbody>\n",
       "</table>\n",
       "<p>7351 rows × 3 columns</p>\n",
       "</div>"
      ],
      "text/plain": [
       "     Logistic_pred Random_Forest_pred SVM_pred\n",
       "0              B54                B54      B54\n",
       "1              A69                A69      A69\n",
       "2              B72                B72      B72\n",
       "3              A21                A21      A21\n",
       "4              B22                B22      B22\n",
       "...            ...                ...      ...\n",
       "7346           B80                B80      B80\n",
       "7347           B71                B71      B71\n",
       "7348           B40                B40      B40\n",
       "7349           B14                B14      B14\n",
       "7350           A76                A76      A76\n",
       "\n",
       "[7351 rows x 3 columns]"
      ]
     },
     "execution_count": 24,
     "metadata": {},
     "output_type": "execute_result"
    }
   ],
   "source": [
    "predictions.drop(columns=['actual'])"
   ]
  },
  {
   "cell_type": "code",
   "execution_count": 25,
   "metadata": {},
   "outputs": [],
   "source": [
    "predictions['actual'] = y_test.to_numpy()"
   ]
  },
  {
   "cell_type": "code",
   "execution_count": 28,
   "metadata": {},
   "outputs": [
    {
     "data": {
      "text/html": [
       "<div>\n",
       "<style scoped>\n",
       "    .dataframe tbody tr th:only-of-type {\n",
       "        vertical-align: middle;\n",
       "    }\n",
       "\n",
       "    .dataframe tbody tr th {\n",
       "        vertical-align: top;\n",
       "    }\n",
       "\n",
       "    .dataframe thead th {\n",
       "        text-align: right;\n",
       "    }\n",
       "</style>\n",
       "<table border=\"1\" class=\"dataframe\">\n",
       "  <thead>\n",
       "    <tr style=\"text-align: right;\">\n",
       "      <th></th>\n",
       "      <th>Logistic_pred</th>\n",
       "      <th>Random_Forest_pred</th>\n",
       "      <th>SVM_pred</th>\n",
       "      <th>actual</th>\n",
       "    </tr>\n",
       "  </thead>\n",
       "  <tbody>\n",
       "    <tr>\n",
       "      <th>0</th>\n",
       "      <td>B54</td>\n",
       "      <td>B54</td>\n",
       "      <td>B54</td>\n",
       "      <td>B54</td>\n",
       "    </tr>\n",
       "    <tr>\n",
       "      <th>1</th>\n",
       "      <td>A69</td>\n",
       "      <td>A69</td>\n",
       "      <td>A69</td>\n",
       "      <td>A69</td>\n",
       "    </tr>\n",
       "    <tr>\n",
       "      <th>2</th>\n",
       "      <td>B72</td>\n",
       "      <td>B72</td>\n",
       "      <td>B72</td>\n",
       "      <td>B72</td>\n",
       "    </tr>\n",
       "    <tr>\n",
       "      <th>3</th>\n",
       "      <td>A21</td>\n",
       "      <td>A21</td>\n",
       "      <td>A21</td>\n",
       "      <td>A21</td>\n",
       "    </tr>\n",
       "    <tr>\n",
       "      <th>4</th>\n",
       "      <td>B22</td>\n",
       "      <td>B22</td>\n",
       "      <td>B22</td>\n",
       "      <td>B22</td>\n",
       "    </tr>\n",
       "    <tr>\n",
       "      <th>...</th>\n",
       "      <td>...</td>\n",
       "      <td>...</td>\n",
       "      <td>...</td>\n",
       "      <td>...</td>\n",
       "    </tr>\n",
       "    <tr>\n",
       "      <th>7346</th>\n",
       "      <td>B80</td>\n",
       "      <td>B80</td>\n",
       "      <td>B80</td>\n",
       "      <td>B80</td>\n",
       "    </tr>\n",
       "    <tr>\n",
       "      <th>7347</th>\n",
       "      <td>B71</td>\n",
       "      <td>B71</td>\n",
       "      <td>B71</td>\n",
       "      <td>B71</td>\n",
       "    </tr>\n",
       "    <tr>\n",
       "      <th>7348</th>\n",
       "      <td>B40</td>\n",
       "      <td>B40</td>\n",
       "      <td>B40</td>\n",
       "      <td>B40</td>\n",
       "    </tr>\n",
       "    <tr>\n",
       "      <th>7349</th>\n",
       "      <td>B14</td>\n",
       "      <td>B14</td>\n",
       "      <td>B14</td>\n",
       "      <td>B14</td>\n",
       "    </tr>\n",
       "    <tr>\n",
       "      <th>7350</th>\n",
       "      <td>A76</td>\n",
       "      <td>A76</td>\n",
       "      <td>A76</td>\n",
       "      <td>A76</td>\n",
       "    </tr>\n",
       "  </tbody>\n",
       "</table>\n",
       "<p>7351 rows × 4 columns</p>\n",
       "</div>"
      ],
      "text/plain": [
       "     Logistic_pred Random_Forest_pred SVM_pred actual\n",
       "0              B54                B54      B54    B54\n",
       "1              A69                A69      A69    A69\n",
       "2              B72                B72      B72    B72\n",
       "3              A21                A21      A21    A21\n",
       "4              B22                B22      B22    B22\n",
       "...            ...                ...      ...    ...\n",
       "7346           B80                B80      B80    B80\n",
       "7347           B71                B71      B71    B71\n",
       "7348           B40                B40      B40    B40\n",
       "7349           B14                B14      B14    B14\n",
       "7350           A76                A76      A76    A76\n",
       "\n",
       "[7351 rows x 4 columns]"
      ]
     },
     "execution_count": 28,
     "metadata": {},
     "output_type": "execute_result"
    }
   ],
   "source": [
    "pd.options.display.max_rows = 4000\n",
    "predictions"
   ]
  },
  {
   "cell_type": "code",
   "execution_count": 33,
   "metadata": {},
   "outputs": [],
   "source": [
    "# export predictions as xlsx\n",
    "predictions.to_csv('predictions.csv', index=False)"
   ]
  },
  {
   "cell_type": "code",
   "execution_count": 32,
   "metadata": {},
   "outputs": [],
   "source": [
    "import pickle as pkl\n",
    "\n",
    "with open(\"models.pkl\", \"wb\") as f:\n",
    "    pkl.dump(models, f)"
   ]
  },
  {
   "cell_type": "code",
   "execution_count": null,
   "metadata": {},
   "outputs": [],
   "source": []
  }
 ],
 "metadata": {
  "kernelspec": {
   "display_name": "tf",
   "language": "python",
   "name": "python3"
  },
  "language_info": {
   "codemirror_mode": {
    "name": "ipython",
    "version": 3
   },
   "file_extension": ".py",
   "mimetype": "text/x-python",
   "name": "python",
   "nbconvert_exporter": "python",
   "pygments_lexer": "ipython3",
   "version": "3.10.13"
  }
 },
 "nbformat": 4,
 "nbformat_minor": 2
}
